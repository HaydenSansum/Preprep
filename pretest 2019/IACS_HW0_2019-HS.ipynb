{
 "cells": [
  {
   "cell_type": "markdown",
   "metadata": {
    "colab_type": "text",
    "id": "ebAwF87OWg_r"
   },
   "source": [
    "### IACS Homework 0, 2019\n",
    "\n",
    "\n",
    "\n",
    "**Harvard University**<br/>\n",
    "** 2019**<br/>\n",
    "**Authors**: Pavlos Protopapas, David Sondak, Kevin Rader\n",
    "\n",
    "---\n",
    "\n",
    "\n",
    "\n"
   ]
  },
  {
   "cell_type": "markdown",
   "metadata": {},
   "source": [
    "# Enter your name here\n",
    "Hayden Sansum"
   ]
  },
  {
   "cell_type": "markdown",
   "metadata": {},
   "source": [
    "# Github"
   ]
  },
  {
   "cell_type": "markdown",
   "metadata": {},
   "source": [
    "If you don't already have one, please create a github account: [https://github.com](https://github.com)."
   ]
  },
  {
   "cell_type": "markdown",
   "metadata": {},
   "source": [
    "# Enter you github account here\n",
    "\n",
    "HaydenSansum"
   ]
  },
  {
   "cell_type": "markdown",
   "metadata": {
    "colab_type": "text",
    "id": "zka0mC4kWg_t"
   },
   "source": [
    "---"
   ]
  },
  {
   "cell_type": "markdown",
   "metadata": {
    "colab_type": "text",
    "id": "GFdkq7ZFWg_u"
   },
   "source": [
    "## Basic Math and Probability/Statistics Calculations"
   ]
  },
  {
   "cell_type": "markdown",
   "metadata": {
    "colab_type": "text",
    "id": "zDvqeWJsWg_u"
   },
   "source": [
    "We'll start you off with some basic math and statistics problems questions to make sure you have the appropriate background to be comfortable with concepts that will come up in CS109a and other courses during the first semester."
   ]
  },
  {
   "cell_type": "markdown",
   "metadata": {
    "colab_type": "text",
    "id": "cH4ouiybWg_v"
   },
   "source": [
    "### Question 1: **Matrix Operations**\n",
    "\n",
    "*Complete the following matrix operations (show your work as a markdown/latex notebook cell)*"
   ]
  },
  {
   "cell_type": "markdown",
   "metadata": {
    "colab_type": "text",
    "id": "hzsrjT65Wg_w"
   },
   "source": [
    "**1.1.** &nbsp;&nbsp;Let &nbsp;&nbsp; $ A =  \\left( \\begin{array}{ccc}\n",
    "3 & 4 & 2 \\\\\n",
    "5 & 6 & 4 \\\\\n",
    "4 & 3 & 4 \\end{array} \\right) \\,\\,$ and  $ \\,\\, B = \\left( \\begin{array}{ccc}\n",
    "1 & 4 & 2 \\\\\n",
    "1 & 9 & 3 \\\\\n",
    "2 & 3 & 3 \\end{array} \\right)\n",
    "$.  \n",
    "\n",
    "Compute &nbsp;$A \\cdot B$.\n",
    "\n",
    "**1.2.** &nbsp;&nbsp;Let &nbsp;&nbsp;\n",
    "$ A =  \\left( \\begin{array}{ccc}\n",
    "0 & 12 & 8 \\\\\n",
    "1 & 15 & 0 \\\\\n",
    "0 & 6 & 3 \\end{array} \\right)$.  \n",
    "\n",
    "Compute &nbsp; $A^{-1}$.  "
   ]
  },
  {
   "cell_type": "markdown",
   "metadata": {},
   "source": [
    "### 1.1"
   ]
  },
  {
   "cell_type": "markdown",
   "metadata": {},
   "source": [
    "Manual A.B calcs: \\\n",
    "3 * 1 + 4 * 1 + 2 * 2 = 11 \\\n",
    "3 * 4 + 4 * 9 + 2 * 3 = 54 \\\n",
    "3 * 2 + 4 * 3 + 2 * 3 = 24 \n",
    "\n",
    "5 * 1 + 6 * 1 + 4 * 2 = 19 \\\n",
    "5 * 4 + 6 * 9 + 4 * 3 = 86 \\\n",
    "5 * 2 + 6 * 3 + 4 * 3 = 40 \n",
    "\n",
    "4 * 1 + 3 * 1 + 4 * 2 = 15 \\\n",
    "4 * 4 + 3 * 9 + 4 * 3 = 55 \\\n",
    "4 * 2 + 3 * 3 + 4 * 3 = 29\n",
    "\n",
    "A.B = \n",
    "\n",
    "$$\\begin{array}\n",
    "{rrr}\n",
    "11 & 54 & 24 \\\\\n",
    "19 & 86 & 40 \\\\\n",
    "15 & 55 & 29\n",
    "\\end{array}\n",
    "$$\n",
    "\n"
   ]
  },
  {
   "cell_type": "code",
   "execution_count": 242,
   "metadata": {},
   "outputs": [
    {
     "name": "stdout",
     "output_type": "stream",
     "text": [
      "[[11 54 24]\n",
      " [19 86 40]\n",
      " [15 55 29]]\n"
     ]
    }
   ],
   "source": [
    "import numpy as np\n",
    "\n",
    "A = np.matrix([[3, 4, 2], [5, 6, 4], [4, 3, 4]])\n",
    "B = np.matrix([[1, 4, 2], [1, 9, 3], [2, 3, 3]])\n",
    "\n",
    "print(A * B)"
   ]
  },
  {
   "cell_type": "markdown",
   "metadata": {},
   "source": [
    "### 1.2"
   ]
  },
  {
   "cell_type": "markdown",
   "metadata": {},
   "source": [
    "A^-1 = 1/|A| adjA\n",
    "\n",
    "cofactor(A):\n",
    "\n",
    "[[15 * 3 - 0, -(3 - 0), 6 - 1], [-(12 * 3 - 6 * 8), 0 - 0, -(0 - 0)], [0 - 8 * 15, -(0 - 8), 0 - 12]]\n",
    "\n",
    "[[45, -3, 5], [12, 0, 0], [-120, 8, -12]]\n",
    "\n",
    "adjA = [[45, 12, -120], [-3, 0, 8], [6, 0, -12]]\n",
    "\n",
    "|A| = 0 - (12 * (3 - 0)) + 8 * (6 - 0) = 12\n",
    "\n",
    "A^-1 = \n",
    "\n",
    "$$\\begin{array}\n",
    "{rrr}\n",
    "15/4 & 1 & -10 \\\\\n",
    "-1/4 & 0 & 2/3 \\\\\n",
    "1/2 & 0 & -1\n",
    "\\end{array}\n",
    "$$\n",
    "\n"
   ]
  },
  {
   "cell_type": "code",
   "execution_count": 243,
   "metadata": {},
   "outputs": [
    {
     "data": {
      "text/plain": [
       "matrix([[  3.75      ,   1.        , -10.        ],\n",
       "        [ -0.25      ,   0.        ,   0.66666667],\n",
       "        [  0.5       ,  -0.        ,  -1.        ]])"
      ]
     },
     "execution_count": 243,
     "metadata": {},
     "output_type": "execute_result"
    }
   ],
   "source": [
    "A = np.matrix([[0,12,8], [1,15,0], [0,6,3]])\n",
    "\n",
    "np.linalg.inv(A)"
   ]
  },
  {
   "cell_type": "markdown",
   "metadata": {
    "colab_type": "text",
    "id": "recPrKzJWg_w"
   },
   "source": [
    "**Calculus and Probability**\n",
    "\n",
    "*Complete the following (show your work as a markdown/latex notebook cell)*\n",
    "\n",
    "**1.3**. From Wikipedia:\n",
    "\n",
    "  > In mathematical optimization, statistics, econometrics, decision theory, machine learning and computational neuroscience, a loss function or cost function is a function that maps an event or values of one or more variables onto a real number intuitively representing some \"cost\" associated with the event. An optimization problem seeks to minimize a loss function.\n",
    "  \n",
    "   We've generated a cost function on parameters $x,y \\in \\mathbb{R}$  $L(x,y)= 3x^2y - y^3 - 3x^2 - 3y^2 + 2$.  Find the critical points (optima) of $L(x,y)$.\n",
    "\n",
    "**1.4**. A central aspect of call center operations is the per minute statistics of caller demographics.  Because of the massive call volumes call centers achieve, these per minute statistics can often take on well-known distributions.  In the CS109 Homework Helpdesk, X and Y are discrete random variables with X measuring the number of female callers per minute and Y the total number of callers per minute.  We've determined historically the joint pmf of (X, Y) and found it to be $$p_{X,Y}(x,y) = e^{-4}\\frac{2^y}{x!(y-x)!}$$ where $y \\in \\mathbb{N}, x \\in [0, y]$ (That is to say the total number of callers in a minute is a non-negative integer and the number of female callers naturally assumes a value between 0 and the total number of callers inclusive).  Find the mean and variance of the marginal distribution of $X$. \n",
    "\n",
    "**Hints: **\n",
    "  1. $x \\in \\left[0,y\\right] \\Rightarrow x < y$.\n",
    "  2. You may find the change of variable $z = y-x$ helpful.\n",
    "  3. Recall: $$ \\sum_{z=0}^{\\infty}\\frac{2^{z}}{z!}  =e^{2}$$"
   ]
  },
  {
   "cell_type": "markdown",
   "metadata": {},
   "source": [
    "### 1.3\n"
   ]
  },
  {
   "cell_type": "markdown",
   "metadata": {},
   "source": [
    "d = partial d in this case\n",
    "\n",
    "dL/dx = 6xy - 6x \\\n",
    "dL/dy = 3x^2 - 3y^2 - 6y\n",
    "\n",
    "dL/dx =0 & dL/dy = 0\n",
    "\n",
    "xy - x = 0 \\\n",
    "x^2 - y^2 -2y = 0 \n",
    "\n",
    "x(y-1) = 0 so x = 0 or y = 1\n",
    "\n",
    "Let x = 0: \\\n",
    "-y^2 - 2y = 0 \\\n",
    "-y(y+2) = 0\n",
    "\n",
    "So y = 0 or -2\n",
    "\n",
    "Let y = 1: \\\n",
    "x^2 - 3 = 0\n",
    "\n",
    "So x = sqrt(3) or -sqrt(3)\n",
    "\n",
    "Critical points = (0,0), (0,-2), (sqrt(3), 1), (-sqrt(3), 1)\n",
    "\n",
    "Find types: \\\n",
    "d^2L/dx^2 = 6y-6 \\\n",
    "d^2L/dy^2 = -6y-6 \\ \n",
    "d^2L/dydx = 6x\n",
    "\n",
    "Therefore from AC-B^2\n",
    "\n",
    "(0,0): -6 * -6 - 0 = 36 (max) \\\n",
    "(0,-2): -18 * 6 - 0 = -108 (saddle) \\\n",
    "(sqrt(3),1): 0 - (6 * sqrt(3))^2) = -108 (saddle) \\\n",
    "(-sqrt(3),1): 0 - (-6 * sqrt(3))^2 = -108 (saddle)\n"
   ]
  },
  {
   "cell_type": "markdown",
   "metadata": {},
   "source": [
    "### 1.4"
   ]
  },
  {
   "cell_type": "code",
   "execution_count": null,
   "metadata": {},
   "outputs": [],
   "source": []
  },
  {
   "cell_type": "code",
   "execution_count": 76,
   "metadata": {
    "colab": {
     "autoexec": {
      "startup": false,
      "wait_interval": 0
     }
    },
    "colab_type": "code",
    "id": "y_8l2vaMWg_y"
   },
   "outputs": [],
   "source": [
    "# The line %... is a jupyter \"magic\" command, and is not part of the Python language.\n",
    "# In this case we're just telling the plotting library to draw things on\n",
    "# the notebook, instead of on a separate window.\n",
    "%matplotlib inline\n",
    "# See the \"import ... as ...\" contructs below? They're just aliasing the package names.\n",
    "# That way we can call methods like plt.plot() instead of matplotlib.pyplot.plot().\n",
    "import numpy as np\n",
    "import scipy as sp\n",
    "import scipy.stats\n",
    "import matplotlib.pyplot as plt\n",
    "import pandas as pd"
   ]
  },
  {
   "cell_type": "markdown",
   "metadata": {
    "colab_type": "text",
    "id": "_G1mgEatjI8M"
   },
   "source": [
    "#### Linear Algebra: Solve a system of equations\n",
    "Many problems in computational and data science boil down to solving a system of linear equations of the form\n",
    "<br><br>\n",
    "\\begin{align*}\n",
    "  Ax = b.\n",
    "\\end{align*}\n",
    "<br>\n",
    "We will consider the case where $A\\in\\mathbb{R}^{m\\times n}$, $x\\in\\mathbb{R}^{n}$ and $b\\in\\mathbb{R}^{m}$.  It may be the case that $m\\neq n$.\n",
    "\n",
    "The goal is to find $x$.\n",
    "\n",
    "You must solve the following problems **by hand** using Gaussian elimination (Gaussian elimination is also known as  row reduction).  **Do not** solve by directly finding the inverse.  You may check your solution with a numerical library such as `scipy`.\n",
    "\n",
    "*Show your work as a markdown/latex notebook cell.*\n",
    "\n",
    "**LaTe$\\chi$ hint**:  Since you're doing Gaussian elimination, you'll want to show the augmented matrix.  To render an augmented matrix in Latex, you may want to consider the following syntax:\n",
    "```latex\n",
    "\\begin{align}\n",
    " \\left[\\begin{array}{rrr|r}\n",
    "  1 & 0 & 0 & 1  \\\\\n",
    "   0 & 1 & 0 & 0  \\\\\n",
    "   0 & 0 & 1 & 0  \\\\ \n",
    "   \\end{array} \\right]\n",
    "\\end{align}\n",
    "```\n",
    "which will render as\n",
    "\\begin{align}\n",
    " \\left[\\begin{array}{rrr|r}\n",
    "  1 & 0 & 0 & 1  \\\\\n",
    "   0 & 1 & 0 & 0  \\\\\n",
    "   0 & 0 & 1 & 0  \\\\ \n",
    "   \\end{array} \\right].\n",
    "\\end{align}\n",
    "\n",
    "**1.5** Solve $Ax = b$ for $x$ where\n",
    "\\begin{align*}\n",
    "  A = \n",
    "  \\begin{bmatrix}\n",
    "    1 & 3 & 0 \\\\\n",
    "    0 & 1 & 1/2 \\\\\n",
    "    2 & 0 & 1\n",
    "  \\end{bmatrix}\n",
    "\\end{align*}\n",
    "and \n",
    "\\begin{align*}\n",
    "  b = \n",
    "  \\begin{bmatrix}\n",
    "    3  \\\\\n",
    "    -1 \\\\\n",
    "    0 \n",
    "  \\end{bmatrix}.\n",
    "\\end{align*}\n",
    "\n",
    "**1.6** Now let \n",
    "\\begin{align*}\n",
    "  A = \n",
    "  \\begin{bmatrix}\n",
    "    1 & 3 & 0 \\\\\n",
    "    0 & 1 & 1/2 \\\\\n",
    "    2 & 0 & -3\n",
    "  \\end{bmatrix}.\n",
    "\\end{align*}\n",
    "Keep $b$ the same as in 1.5.\n",
    "\n",
    "Does the system have any solutions?\n",
    "\n",
    "**1.7** It is very often the case that we are not dealing with square matrices (that is $m \\neq n$).  Yet we still want to find solutions to the system of equations.  Consider \n",
    "\\begin{align*}\n",
    "  A = \n",
    "  \\begin{bmatrix}\n",
    "    1 & 2 \\\\\n",
    "    2 & 3 \\\\\n",
    "    -1 & 3\n",
    "  \\end{bmatrix}\n",
    "\\end{align*}\n",
    "and\n",
    "\\begin{align*}\n",
    "  b = \n",
    "  \\begin{bmatrix}\n",
    "    3  \\\\\n",
    "    -1 \\\\\n",
    "    c \n",
    "  \\end{bmatrix}\n",
    "\\end{align*}\n",
    "where $c \\in \\mathbb{R}$.\n",
    "\n",
    "Is there a solution to this system?  When?"
   ]
  },
  {
   "cell_type": "markdown",
   "metadata": {},
   "source": [
    "### 1.5\n"
   ]
  },
  {
   "cell_type": "markdown",
   "metadata": {},
   "source": [
    "\\begin{align}\n",
    " \\left[\\begin{array}{rrr|r}\n",
    "  1 & 3 & 0 & 3  \\\\\n",
    "   0 & 1 & 0.5 & -1  \\\\\n",
    "   2 & 0 & 1 & 0  \\\\ \n",
    "   \\end{array} \\right]\n",
    "\\end{align}\n",
    "\n",
    "Third row minus 2 * First row:\n",
    "\n",
    "\\begin{align}\n",
    " \\left[\\begin{array}{rrr|r}\n",
    "  1 & 3 & 0 & 3  \\\\\n",
    "   0 & 1 & 0.5 & -1  \\\\\n",
    "   0 & -6 & 1 & -6  \\\\ \n",
    "   \\end{array} \\right]\n",
    "\\end{align}\n",
    "\n",
    "Third row plus 6 * Second row:\n",
    "\n",
    "\\begin{align}\n",
    " \\left[\\begin{array}{rrr|r}\n",
    "  1 & 3 & 0 & 3  \\\\\n",
    "   0 & 1 & 0.5 & -1  \\\\\n",
    "   0 & 0 & 4 & -12  \\\\ \n",
    "   \\end{array} \\right]\n",
    "\\end{align}\n",
    "\n",
    "Third row * 1/4\n",
    "\n",
    "\\begin{align}\n",
    " \\left[\\begin{array}{rrr|r}\n",
    "  1 & 3 & 0 & 3  \\\\\n",
    "   0 & 1 & 0.5 & -1  \\\\\n",
    "   0 & 0 & 1 & -3  \\\\ \n",
    "   \\end{array} \\right]\n",
    "\\end{align}\n",
    "\n",
    "Therefore:\n",
    "\n",
    "c = -3 \\\n",
    "\n",
    "b + 0.5c = -1 \\\n",
    "b = 0.5\n",
    "\n",
    "a + 3b = 3 \\\n",
    "a = 1.5\n",
    "\n",
    "x = \n",
    "\\begin{align}\n",
    " \\left[\\begin{array}{r}\n",
    "  1.5 \\\\\n",
    "   0.5  \\\\\n",
    "   -3  \\\\ \n",
    "   \\end{array} \\right]\n",
    "\\end{align}\n"
   ]
  },
  {
   "cell_type": "code",
   "execution_count": 20,
   "metadata": {},
   "outputs": [
    {
     "data": {
      "text/plain": [
       "array([ 1.5,  0.5, -3. ])"
      ]
     },
     "execution_count": 20,
     "metadata": {},
     "output_type": "execute_result"
    }
   ],
   "source": [
    "A = np.array([[1,3,0],[0,1,0.5],[2,0,1]])\n",
    "B = np.array([3,-1,0])\n",
    "\n",
    "np.linalg.solve(A,B)"
   ]
  },
  {
   "cell_type": "markdown",
   "metadata": {},
   "source": [
    "### 1.6"
   ]
  },
  {
   "cell_type": "markdown",
   "metadata": {},
   "source": [
    "\\begin{align}\n",
    " \\left[\\begin{array}{rrr|r}\n",
    "  1 & 3 & 0 & 3  \\\\\n",
    "   0 & 1 & 0.5 & -1  \\\\\n",
    "   2 & 0 & -3 & 0  \\\\ \n",
    "   \\end{array} \\right]\n",
    "\\end{align}\n",
    "\n",
    "Third row minus 2 * First row:\n",
    "\n",
    "\\begin{align}\n",
    " \\left[\\begin{array}{rrr|r}\n",
    "  1 & 3 & 0 & 3  \\\\\n",
    "   0 & 1 & 0.5 & -1  \\\\\n",
    "   0 & -6 & -3 & -6  \\\\ \n",
    "   \\end{array} \\right]\n",
    "\\end{align}\n",
    "\n",
    "Third row plus 6 * Second row:\n",
    "\n",
    "\\begin{align}\n",
    " \\left[\\begin{array}{rrr|r}\n",
    "  1 & 3 & 0 & 3  \\\\\n",
    "   0 & 1 & 0.5 & -1  \\\\\n",
    "   0 & 0 & 0 & -12  \\\\ \n",
    "   \\end{array} \\right]\n",
    "\\end{align}\n",
    "\n",
    "We have 0 = -12 hence there are no unique solutions to the problem"
   ]
  },
  {
   "cell_type": "code",
   "execution_count": 10,
   "metadata": {},
   "outputs": [
    {
     "data": {
      "text/plain": [
       "array([-1.08086391e+17,  3.60287970e+16, -7.20575940e+16])"
      ]
     },
     "execution_count": 10,
     "metadata": {},
     "output_type": "execute_result"
    }
   ],
   "source": [
    "A = np.array([[1,3,0],[0,1,0.5],[2,0,-3]])\n",
    "B = np.array([3,-1,0])\n",
    "\n",
    "np.linalg.solve(A,B)"
   ]
  },
  {
   "cell_type": "markdown",
   "metadata": {},
   "source": [
    "### 1.7"
   ]
  },
  {
   "cell_type": "markdown",
   "metadata": {},
   "source": [
    "\\begin{align}\n",
    " \\left[\\begin{array}{rr|r}\n",
    "  1 & 2 & 3  \\\\\n",
    "   2 & 3 & -1  \\\\\n",
    "   -1 & 3 & c  \\\\ \n",
    "   \\end{array} \\right]\n",
    "\\end{align}\n",
    "\n",
    "R2 - 2 * R1:\n",
    "\n",
    "\\begin{align}\n",
    " \\left[\\begin{array}{rr|r}\n",
    "  1 & 2 & 3  \\\\\n",
    "   0 & -1 & -7  \\\\\n",
    "   -1 & 3 & c  \\\\ \n",
    "   \\end{array} \\right]\n",
    "\\end{align}\n",
    "\n",
    "R3 + R1:\n",
    "\n",
    "\\begin{align}\n",
    " \\left[\\begin{array}{rr|r}\n",
    "  1 & 2 & 3  \\\\\n",
    "   0 & -1 & -7  \\\\\n",
    "   0 & 5 & c + 3  \\\\ \n",
    "   \\end{array} \\right]\n",
    "\\end{align}\n",
    "\n",
    "R2 * -1\n",
    "\n",
    "\\begin{align}\n",
    " \\left[\\begin{array}{rr|r}\n",
    "  1 & 2 & 3  \\\\\n",
    "   0 & 1 & 7  \\\\\n",
    "   0 & 5 & c + 3  \\\\ \n",
    "   \\end{array} \\right]\n",
    "\\end{align}\n",
    "\n",
    "R1 - 2 * R2\n",
    "\n",
    "\\begin{align}\n",
    " \\left[\\begin{array}{rr|r}\n",
    "  1 & 0 & -11  \\\\\n",
    "   0 & 1 & 7  \\\\\n",
    "   0 & 5 & c + 3  \\\\ \n",
    "   \\end{array} \\right]\n",
    "\\end{align}\n",
    "\n",
    "R3 - 5 * R2\n",
    "\n",
    "\\begin{align}\n",
    " \\left[\\begin{array}{rr|r}\n",
    "  1 & 0 & -11  \\\\\n",
    "   0 & 1 & 7  \\\\\n",
    "   0 & 0 & c + 3 - 35  \\\\ \n",
    "   \\end{array} \\right]\n",
    "\\end{align}\n",
    "\n",
    "Therefore a solution exists when:\n",
    "\n",
    "c = 32\n",
    "\n",
    "and: \n",
    "\n",
    "a = -11 \\\n",
    "b = 7\n",
    "\n",
    "x = \n",
    "\\begin{align}\n",
    " \\left[\\begin{array}{r}\n",
    " -11 \\\\\n",
    " 7 \\\\\n",
    " \\end{array} \\right]\n",
    "\\end{align}\n"
   ]
  },
  {
   "cell_type": "markdown",
   "metadata": {
    "colab_type": "text",
    "id": "V4UpAI-IWg_2"
   },
   "source": [
    "------"
   ]
  },
  {
   "cell_type": "markdown",
   "metadata": {
    "colab_type": "text",
    "id": "m-JKxgvvaOC2"
   },
   "source": [
    "###Basic Statistics\n",
    "\n",
    "Complete the following: you can perform the calculations by hand (show your work) or using software (include the code and output)\n",
    "\n",
    "**1.8** 37 of the 76 female CS concentrators have taken Data Science 1 (DS1) while 50 of the 133 male concentrators haven taken DS1. Perform a statistical test to determine if interest in Data Science (by taking DS1) is related to sex. Be sure to state your conclusion."
   ]
  },
  {
   "cell_type": "markdown",
   "metadata": {},
   "source": [
    "### 1.8\n"
   ]
  },
  {
   "cell_type": "markdown",
   "metadata": {},
   "source": [
    "Is interest in data science (DS1) related to sex?\n",
    "\n",
    "Null hypothesis (H0): There is no difference in interest for DS1 between M and F \\\n",
    "Alt hypothesis (Ha): There is a difference\n",
    "\n",
    "alpha = 0.05 (significance level required)\n",
    "\n",
    "n(m) = 133\n",
    "n(f) = 76\n",
    "\n",
    "Using chi-sq test:\n",
    "Assume sampling of population is random \\\n",
    "Assume total population is greater than 10*our sample\n",
    "\n",
    "|         | M | F | Total |\n",
    "|---------|---|---|-------|\n",
    "| DS1     | 50  | 37  |   87    |\n",
    "| Not DS1 | 83  |  39 |   122    |\n",
    "| Total   | 133  | 76  |   209    |\n",
    "\n",
    "Therefore if we assume H0 there will be no difference between the proportions of M and F taking DS1. Hence the expected proportions will be:\n",
    "\n",
    "87/209 taking DS1\n",
    "122/209 not taking DS1\n",
    "\n",
    "Expected values are therefore:\n",
    "\n",
    "|         | M | F |\n",
    "|---------|---|---|\n",
    "| DS1     | 87/209 * 133  | 87/209 * 76  |\n",
    "| Not DS1 | 122/209 * 133  |  122/209 * 76 |\n",
    "\n",
    "Approx:\n",
    "\n",
    "|         | M | F |\n",
    "|---------|---|---|\n",
    "| DS1     | 55.3636  | 31.6363  |\n",
    "| Not DS1 | 77.6363  |  44.3636 |\n",
    "\n",
    "Chi-sq = \n",
    "\n",
    "(50-55.3636)^2 / 55.3636 + (37-31.6363)^2 / 31.6363 + (83-77.6363)^2 / 77.6363 + (39-44.3636)^2 / 44.3636\n",
    "\n",
    "= 2.448\n",
    "\n",
    "Df = 1 for this case\n",
    "\n",
    "So from the chi-sq tables\n",
    "\n",
    "0.10 < P < 0.15\n",
    "\n",
    "Therefore cannot reject the null hypothesis that there is no difference in interest in DS1 for M and F.\n",
    "\n",
    "Cannot conclude whether or not interest in DS1 is related to sex.\n"
   ]
  },
  {
   "cell_type": "markdown",
   "metadata": {
    "colab_type": "text",
    "id": "4XN6nDlCWg_3"
   },
   "source": [
    "## Simulation of a Coin Throw\n",
    "\n",
    "We'd like to do some experiments with coin flips, but we don't have a physical coin at the moment. So let us **simulate** the process of flipping a coin on a computer. To do this we will use a form of the **random number generator** built into `numpy`. In particular, we will use the function `np.random.choice` which picks items with uniform probability from a list. If we provide it a list ['H', 'T'], it will pick one of the two items in the list. We can also ask it to do this multiple times by specifying the parameter `size`. "
   ]
  },
  {
   "cell_type": "code",
   "execution_count": 2,
   "metadata": {
    "colab": {
     "autoexec": {
      "startup": false,
      "wait_interval": 0
     }
    },
    "colab_type": "code",
    "id": "H_UVI4WIWg_4"
   },
   "outputs": [],
   "source": [
    "def throw_a_coin(n_trials):\n",
    "    return np.random.choice(['H','T'], size=n_trials)"
   ]
  },
  {
   "cell_type": "code",
   "execution_count": 3,
   "metadata": {},
   "outputs": [
    {
     "data": {
      "text/plain": [
       "array(['T', 'T', 'H', 'T', 'T', 'H', 'H', 'H', 'T', 'H'], dtype='<U1')"
      ]
     },
     "execution_count": 3,
     "metadata": {},
     "output_type": "execute_result"
    }
   ],
   "source": [
    "throw_a_coin(10)"
   ]
  },
  {
   "cell_type": "markdown",
   "metadata": {
    "colab_type": "text",
    "id": "ua51ppGcWg_7"
   },
   "source": [
    "`np.sum` is a function that returns the sum of items in an iterable (i.e. a list or an array).  Because python coerces `True` to 1 and `False` to 0, the effect of calling `np.sum` on the array of `True`s and `False`s will be to return the number of `True`s in the array which is the same as the number of heads. "
   ]
  },
  {
   "cell_type": "markdown",
   "metadata": {
    "colab_type": "text",
    "id": "rm8GPLyhWg_8"
   },
   "source": [
    "### Question 2: The 12 Labors of Bernoullis\n",
    "\n",
    "Now that we know how to run our coin flip experiment, we're interested in knowing what happens as we choose larger and larger number of coin flips.\n",
    "\n",
    "\n",
    "**2.1**.  Run one experiment of flipping a coin 40 times storing the resulting sample in the variable `throws1`.   What's the total proportion of heads?\n",
    "\n",
    "**2.2**.  **Replicate** the experiment in 2.1 storing the resulting sample  in the variable `throws2`.   What's the proportion of heads?  How does this result compare to that you obtained in question 2.1?\n",
    "\n",
    "**2.3**.  Write a function  called `run_trials` that takes as input a list, called `n_flips`, of integers representing different values for the number of coin flips in a trial.  For each element in the input list, `run_trials` should run the coin flip experiment with that number of flips and calculate the proportion of heads.  The output of `run_trials` should be the list of calculated proportions.  Store the output of calling `run_trials` in a list called `proportions`.\n",
    "\n",
    "**2.4**.  Using the results in 2.3, reproduce the plot below. \n",
    "<!--of the proportion of observed heads to total coins flipped in the trial when `run_trials` is run for each of the sample sizes in `trials` --> \n",
    "\n",
    "\n",
    "**2.5**.  What's the appropriate observation about the result of running the coin flip experiment with larger and larger numbers of coin flips?  Choose the appropriate one from the choices below. \n",
    "\n",
    "> A. Regardless of sample size the probability of in our experiment of observing heads is 0.5 so the proportion of heads observed in the coin-flip experiments will always be 0.5.  \n",
    ">\n",
    "> B. The proportions **fluctuate** about their long-run value of 0.5 (what you might expect if you tossed the coin an infinite amount of times), in accordance with the notion of a fair coin (which we encoded in our simulation by having `np.random.choice` choose between two possibilities with equal probability), with the fluctuations seeming to become much smaller as the number of trials increases.\n",
    ">\n",
    "> C. The proportions **fluctuate** about their long-run value of 0.5 (what you might expect if you tossed the coin an infinite amount of times), in accordance with the notion of a fair coin (which we encoded in our simulation by having `np.random.choice` choose between two possibilities with equal probability), with the fluctuations constant regardless of the number of trials.\n"
   ]
  },
  {
   "cell_type": "markdown",
   "metadata": {},
   "source": [
    "### 2.1"
   ]
  },
  {
   "cell_type": "code",
   "execution_count": 17,
   "metadata": {},
   "outputs": [
    {
     "name": "stdout",
     "output_type": "stream",
     "text": [
      "heads:  18 proportion:  0.45\n"
     ]
    }
   ],
   "source": [
    "throws1 = throw_a_coin(40)\n",
    "heads = np.sum(throws1 == 'H')\n",
    "proportion_head = heads / len(throws1)\n",
    "\n",
    "print(\"heads: \", heads, \"proportion: \", proportion_head)"
   ]
  },
  {
   "cell_type": "markdown",
   "metadata": {},
   "source": [
    "### 2.2"
   ]
  },
  {
   "cell_type": "code",
   "execution_count": 18,
   "metadata": {},
   "outputs": [
    {
     "name": "stdout",
     "output_type": "stream",
     "text": [
      "heads:  21 proportion:  0.525\n"
     ]
    }
   ],
   "source": [
    "throws2 = throw_a_coin(40)\n",
    "heads2 = np.sum(throws2 == 'H')\n",
    "proportion_head2 = heads2 / len(throws2)\n",
    "\n",
    "print(\"heads: \", heads2, \"proportion: \", proportion_head2)"
   ]
  },
  {
   "cell_type": "markdown",
   "metadata": {},
   "source": [
    "They differ"
   ]
  },
  {
   "cell_type": "markdown",
   "metadata": {},
   "source": [
    "### 2.3"
   ]
  },
  {
   "cell_type": "code",
   "execution_count": 22,
   "metadata": {},
   "outputs": [],
   "source": [
    "def run_trials(n_flips):\n",
    "    proportion_heads = []\n",
    "    for i in n_flips:\n",
    "        throws = throw_a_coin(i)\n",
    "        heads = np.sum(throws == 'H')\n",
    "        proportion_head = heads / len(throws)\n",
    "        proportion_heads.append(proportion_head)\n",
    "    return(proportion_heads)"
   ]
  },
  {
   "cell_type": "code",
   "execution_count": 29,
   "metadata": {},
   "outputs": [
    {
     "name": "stdout",
     "output_type": "stream",
     "text": [
      "[0.2, 0.3, 0.49, 0.497]\n"
     ]
    }
   ],
   "source": [
    "proportions = run_trials([5,20,100,1000])\n",
    "\n",
    "print(proportions)"
   ]
  },
  {
   "cell_type": "markdown",
   "metadata": {},
   "source": [
    "### 2.4"
   ]
  },
  {
   "cell_type": "code",
   "execution_count": 37,
   "metadata": {},
   "outputs": [],
   "source": [
    "n_flips = [2,5,10,20,50,100,150,200,250,500,1000,2000,5000,10000]\n",
    "proportions = run_trials(n_flips)"
   ]
  },
  {
   "cell_type": "code",
   "execution_count": 60,
   "metadata": {},
   "outputs": [
    {
     "data": {
      "image/png": "[encoded data removed]",
      "text/plain": [
       "<Figure size 1440x1440 with 1 Axes>"
      ]
     },
     "metadata": {
      "needs_background": "light"
     },
     "output_type": "display_data"
    }
   ],
   "source": [
    "plt.plot(n_flips, proportions, marker='o')\n",
    "plt.axhline(y=0.5, color='r')\n",
    "plt.title(\"Proportion of Heads in Simulation vs Total Number of Flips\")\n",
    "plt.xlabel(\"Number of flips\")\n",
    "plt.ylabel(\"Proportions of Heads\")\n",
    "plt.show()"
   ]
  },
  {
   "cell_type": "markdown",
   "metadata": {},
   "source": [
    "### 2.5"
   ]
  },
  {
   "cell_type": "markdown",
   "metadata": {},
   "source": [
    "B"
   ]
  },
  {
   "cell_type": "code",
   "execution_count": 1,
   "metadata": {
    "colab": {
     "autoexec": {
      "startup": false,
      "wait_interval": 0
     },
     "base_uri": "https://localhost:8080/",
     "height": 469
    },
    "colab_type": "code",
    "executionInfo": {
     "elapsed": 345,
     "status": "ok",
     "timestamp": 1528546347914,
     "user": {
      "displayName": "Pavlos Protopapas",
      "photoUrl": "//lh4.googleusercontent.com/-Fj3SnWjbgIk/AAAAAAAAAAI/AAAAAAAAZOs/M8ErIKEjmjc/s50-c-k-no/photo.jpg",
      "userId": "113094128082842199613"
     },
     "user_tz": 240
    },
    "id": "n-iroiZ5djbd",
    "outputId": "33d3b25f-81fd-4f23-eb9c-c44d20f33264"
   },
   "outputs": [
    {
     "data": {
      "image/png": "[encoded data removed]",
      "text/plain": [
       "<IPython.core.display.Image object>"
      ]
     },
     "execution_count": 1,
     "metadata": {},
     "output_type": "execute_result"
    }
   ],
   "source": [
    "from IPython.display import Image, display\n",
    "from IPython.display import Image\n",
    "Image('HW0Plot1.png')"
   ]
  },
  {
   "cell_type": "markdown",
   "metadata": {
    "colab_type": "text",
    "id": "GWpbennhWg_8"
   },
   "source": [
    "#### Answers"
   ]
  },
  {
   "cell_type": "markdown",
   "metadata": {
    "colab_type": "text",
    "id": "4gMzkJYCWg_9"
   },
   "source": [
    "**2.1**"
   ]
  },
  {
   "cell_type": "code",
   "execution_count": 4,
   "metadata": {
    "colab": {
     "autoexec": {
      "startup": false,
      "wait_interval": 0
     }
    },
    "colab_type": "code",
    "id": "VxpDLBDGWg__"
   },
   "outputs": [
    {
     "name": "stdout",
     "output_type": "stream",
     "text": [
      "0.625\n"
     ]
    }
   ],
   "source": [
    "## Your code here\n",
    "throws1 = throw_a_coin(40)\n",
    "Heads = throws1=='H'\n",
    "np.sum(Heads)\n",
    "\n",
    "proportion_heads = np.sum(Heads)/len(throws1)\n",
    "print(proportion_heads)"
   ]
  },
  {
   "cell_type": "markdown",
   "metadata": {
    "colab_type": "text",
    "id": "qpTmFyM6WhAB"
   },
   "source": [
    "**2.2** "
   ]
  },
  {
   "cell_type": "code",
   "execution_count": 5,
   "metadata": {
    "colab": {
     "autoexec": {
      "startup": false,
      "wait_interval": 0
     }
    },
    "colab_type": "code",
    "id": "3v7lh2-MWhAC"
   },
   "outputs": [
    {
     "name": "stdout",
     "output_type": "stream",
     "text": [
      "0.5\n"
     ]
    }
   ],
   "source": [
    "## Your code here\n",
    "throws2 = throw_a_coin(40)\n",
    "Heads2 = throws2=='H'\n",
    "np.sum(Heads2)\n",
    "\n",
    "proportion_heads2 = np.sum(Heads2)/len(throws1)\n",
    "print(proportion_heads2)"
   ]
  },
  {
   "cell_type": "markdown",
   "metadata": {},
   "source": [
    "Lower than in 2.1"
   ]
  },
  {
   "cell_type": "markdown",
   "metadata": {
    "colab_type": "text",
    "id": "5zxqxPSRWhAE"
   },
   "source": [
    "**2.3** "
   ]
  },
  {
   "cell_type": "code",
   "execution_count": null,
   "metadata": {
    "colab": {
     "autoexec": {
      "startup": false,
      "wait_interval": 0
     }
    },
    "colab_type": "code",
    "id": "1GwxDfDAWhAG"
   },
   "outputs": [],
   "source": [
    "n_flips = [10, 30, 50, 70, 100, 130, 170, 200, 500, 1000, 2000, 5000, 10000]"
   ]
  },
  {
   "cell_type": "code",
   "execution_count": null,
   "metadata": {
    "colab": {
     "autoexec": {
      "startup": false,
      "wait_interval": 0
     }
    },
    "colab_type": "code",
    "id": "OsugW_nfWhAJ"
   },
   "outputs": [],
   "source": [
    "## Your code here\n",
    "def run_trials(n_flips):\n",
    "    prop = []\n",
    "    for n in n_flips:\n",
    "        throws = throw_a_coin(n)\n",
    "        Heads = throws =='H' \n",
    "        prop.append(np.sum(Heads)/n)\n",
    "    return prop    \n",
    "        \n",
    "proportions = run_trials(n_flips)   \n",
    "print (proportions)"
   ]
  },
  {
   "cell_type": "code",
   "execution_count": null,
   "metadata": {
    "colab": {
     "autoexec": {
      "startup": false,
      "wait_interval": 0
     }
    },
    "colab_type": "code",
    "id": "o869j9HRWhAO"
   },
   "outputs": [],
   "source": [
    "proportions = run_trials(n_flips)"
   ]
  },
  {
   "cell_type": "markdown",
   "metadata": {
    "colab_type": "text",
    "id": "vFxkPo3lWhAR"
   },
   "source": [
    "**2.4** "
   ]
  },
  {
   "cell_type": "code",
   "execution_count": null,
   "metadata": {
    "colab": {
     "autoexec": {
      "startup": false,
      "wait_interval": 0
     }
    },
    "colab_type": "code",
    "id": "uB9pUm2nWhAS"
   },
   "outputs": [],
   "source": [
    "## your code here \n"
   ]
  },
  {
   "cell_type": "markdown",
   "metadata": {
    "colab_type": "text",
    "id": "linLHj1cWhAU"
   },
   "source": [
    "**2.5** "
   ]
  },
  {
   "cell_type": "markdown",
   "metadata": {
    "colab_type": "text",
    "id": "O3lOfJc2WhAV"
   },
   "source": [
    "**What's the appropriate observation about the result of applying the coin flip experiment to larger and larger numbers of coin flips?  Choose the appropriate one.**\n",
    "\n",
    "*your choice here*\n",
    "\n",
    "B"
   ]
  },
  {
   "cell_type": "markdown",
   "metadata": {
    "colab_type": "text",
    "id": "b8cC4_0yWhAW"
   },
   "source": [
    "## Multiple Replications of the Coin Flip Experiment\n",
    "\n",
    "The coin flip experiment that we did above gave us some insight, but we don't have a good notion of how robust our results are under repetition as we've only run one experiment for each number of coin flips. Lets redo the coin flip experiment, but let's incorporate multiple repetitions of each number of coin flips. For each choice of the number of flips,  $n$, in an experiment, we'll do $M$ replications of the coin tossing experiment."
   ]
  },
  {
   "cell_type": "markdown",
   "metadata": {
    "colab_type": "text",
    "id": "54-xk0mkWhAX"
   },
   "source": [
    "### Question 3. So Many Replications\n",
    "\n",
    "**3.1**.  Write a function `make_throws` which takes as arguments the `n_replications` ($M$) and the `n_flips` ($n$), and returns a list (of size $M$) of proportions, with each proportion calculated by taking the ratio of heads to to total number of coin flips in each replication of $n$ coin tosses.  `n_flips` should be a python parameter whose value should default to 20 if unspecified when `make_throws` is called. "
   ]
  },
  {
   "cell_type": "code",
   "execution_count": null,
   "metadata": {},
   "outputs": [],
   "source": [
    "def make_throws(M, n=20):\n",
    "    replications=[]\n",
    "    for i in range(M):\n",
    "        heads =  throw_a_coin(n)=='H'\n",
    "        prop = sum(heads)/n\n",
    "        replications.append(prop)\n",
    "    return replications"
   ]
  },
  {
   "cell_type": "code",
   "execution_count": 49,
   "metadata": {},
   "outputs": [],
   "source": [
    "#make_throws(100,100)"
   ]
  },
  {
   "cell_type": "markdown",
   "metadata": {
    "colab_type": "text",
    "id": "54-xk0mkWhAX"
   },
   "source": [
    "**3.2**.  Create the variables `proportions_at_n_flips_100` and `proportions_at_n_flips_1000`.  Store in these variables the result of `make_throws` for `n_flips` equal to 100 and 1000 respectively while keeping `n_replications` at 200.  Create a plot with the histograms of `proportions_at_n_flips_100` and `proportions_at_n_flips_1000`.  Make sure to title your plot, label the x-axis and provide a legend.(See below for an example of what the plot may look like) ![](./HW0Plot2.png) "
   ]
  },
  {
   "cell_type": "markdown",
   "metadata": {},
   "source": [
    "### 3.2"
   ]
  },
  {
   "cell_type": "code",
   "execution_count": 50,
   "metadata": {},
   "outputs": [],
   "source": [
    "proportions_at_n_flips_100 = make_throws(200, 100)\n",
    "proportions_at_n_flips_1000 = make_throws(200, 1000)"
   ]
  },
  {
   "cell_type": "code",
   "execution_count": 68,
   "metadata": {},
   "outputs": [
    {
     "data": {
      "image/png": "[encoded data removed]",
      "text/plain": [
       "<Figure size 1440x1440 with 1 Axes>"
      ]
     },
     "metadata": {
      "needs_background": "light"
     },
     "output_type": "display_data"
    }
   ],
   "source": [
    "plt.hist(proportions_at_n_flips_100, alpha=0.3, label='100 flips')\n",
    "plt.hist(proportions_at_n_flips_1000, alpha=0.3, label='1000 flips')\n",
    "plt.title(\"Histogram of Samples at Different Numbers of Flips\")\n",
    "plt.xlabel(\"Proportions of Heads\")\n",
    "plt.legend(loc='upper right')\n",
    "plt.show()"
   ]
  },
  {
   "cell_type": "code",
   "execution_count": null,
   "metadata": {},
   "outputs": [],
   "source": [
    "M=200\n",
    "proportions_at_n_flips_100 = make_throws(M, 100)\n",
    "proportions_at_n_flips_1000 = make_throws(M, 1000)\n",
    "\n",
    "\n",
    "plt.hist(proportions_at_n_flips_100, alpha=0.5, label='100 flips')\n",
    "plt.hist(proportions_at_n_flips_1000, alpha=0.5, label='1000 flips')\n",
    "plt.legend()\n",
    "plt.title('Histogram for Repeat Coin Flip Experiment')\n",
    "plt.xlabel('mean proportion of heads')"
   ]
  },
  {
   "cell_type": "markdown",
   "metadata": {
    "colab_type": "text",
    "id": "54-xk0mkWhAX"
   },
   "source": [
    "**3.3**. Calculate the mean and variance of the results in the each of the variables `proportions_at_n_flips_100` and `proportions_at_n_flips_1000` generated in 3.2.   \n",
    "\n",
    "3.4. Based upon the plots what would be your guess of what type of distribution is represented by histograms in 3.2?  Explain the factors that influenced your choice.\n",
    "> A. Gamma Distribution\n",
    ">\n",
    "> B. Beta Distribution\n",
    ">\n",
    "> C. Gaussian\n",
    "\n",
    "**3.5**. Let's just assume for arguments sake that the answer to 3.4 is **C. Gaussian**.  Plot a **normed histogram** of your results `proportions_at_n_flips_1000` overlayed with your selection for the appropriate gaussian distribution to represent the experiment of flipping a coin 1000 times.   (**Hint:  What parameters should you use for your Gaussian?**)"
   ]
  },
  {
   "cell_type": "code",
   "execution_count": 2,
   "metadata": {
    "colab": {
     "autoexec": {
      "startup": false,
      "wait_interval": 0
     },
     "base_uri": "https://localhost:8080/",
     "height": 466
    },
    "colab_type": "code",
    "executionInfo": {
     "elapsed": 412,
     "status": "ok",
     "timestamp": 1528546478092,
     "user": {
      "displayName": "Pavlos Protopapas",
      "photoUrl": "//lh4.googleusercontent.com/-Fj3SnWjbgIk/AAAAAAAAAAI/AAAAAAAAZOs/M8ErIKEjmjc/s50-c-k-no/photo.jpg",
      "userId": "113094128082842199613"
     },
     "user_tz": 240
    },
    "id": "AwZhVV4Fd7K_",
    "outputId": "fbbaf4c4-7364-47f9-cd43-ed748c5f687c"
   },
   "outputs": [
    {
     "data": {
      "image/png": "[encoded data removed]",
      "text/plain": [
       "<IPython.core.display.Image object>"
      ]
     },
     "execution_count": 2,
     "metadata": {},
     "output_type": "execute_result"
    }
   ],
   "source": [
    "from IPython.display import Image, display\n",
    "from IPython.display import Image\n",
    "Image('HW0Plot2.png')"
   ]
  },
  {
   "cell_type": "markdown",
   "metadata": {
    "colab_type": "text",
    "id": "mwKyvO1tWhAY"
   },
   "source": [
    "#### Answers"
   ]
  },
  {
   "cell_type": "markdown",
   "metadata": {
    "colab_type": "text",
    "id": "sZG5q2FpWhAY"
   },
   "source": [
    "**3.1**"
   ]
  },
  {
   "cell_type": "code",
   "execution_count": null,
   "metadata": {
    "colab": {
     "autoexec": {
      "startup": false,
      "wait_interval": 0
     }
    },
    "colab_type": "code",
    "id": "VdA10Wq4WhAZ"
   },
   "outputs": [],
   "source": [
    "# your code here\n",
    "def make_throws(M, n=20):\n",
    "    reps = []\n",
    "    for i in range(M):\n",
    "        throws = throw_a_coin(n)\n",
    "        heads = throws =='H' \n",
    "        prop = (np.sum(heads)/n)\n",
    "        reps.append(prop)\n",
    "    return(reps)  "
   ]
  },
  {
   "cell_type": "markdown",
   "metadata": {
    "colab_type": "text",
    "id": "-pWKzt-WWhAd"
   },
   "source": [
    "**3.2**"
   ]
  },
  {
   "cell_type": "code",
   "execution_count": null,
   "metadata": {
    "colab": {
     "autoexec": {
      "startup": false,
      "wait_interval": 0
     }
    },
    "colab_type": "code",
    "id": "MPJq4OyfWhAd"
   },
   "outputs": [],
   "source": [
    "# your code here\n",
    "proportions_at_n_flips_100 = make_throws(200, 100)\n",
    "proportions_at_n_flips_1000 = make_throws(200, 1000)"
   ]
  },
  {
   "cell_type": "code",
   "execution_count": 91,
   "metadata": {
    "colab": {
     "autoexec": {
      "startup": false,
      "wait_interval": 0
     }
    },
    "colab_type": "code",
    "id": "nXj_S-iwWhAg"
   },
   "outputs": [
    {
     "data": {
      "image/png": "[encoded data removed]",
      "text/plain": [
       "<Figure size 432x288 with 1 Axes>"
      ]
     },
     "metadata": {
      "needs_background": "light"
     },
     "output_type": "display_data"
    }
   ],
   "source": [
    "# code for your plot here\n",
    "plt.hist(proportions_at_n_flips_100, alpha=0.3, label='100 flips')\n",
    "plt.hist(proportions_at_n_flips_1000, alpha=0.3, label='1000 flips')\n",
    "plt.title(\"Histogram of Samples at Different Numbers of Flips\")\n",
    "plt.xlabel(\"Proportions of Heads\")\n",
    "plt.legend(loc='upper right')\n",
    "plt.show()"
   ]
  },
  {
   "cell_type": "markdown",
   "metadata": {
    "colab_type": "text",
    "id": "AARec2i6WhAk"
   },
   "source": [
    "**3.3**"
   ]
  },
  {
   "cell_type": "code",
   "execution_count": 72,
   "metadata": {
    "colab": {
     "autoexec": {
      "startup": false,
      "wait_interval": 0
     }
    },
    "colab_type": "code",
    "id": "OsoSmEdIWhAk"
   },
   "outputs": [
    {
     "name": "stdout",
     "output_type": "stream",
     "text": [
      "0.49325000000000024\n",
      "0.49938499999999975\n"
     ]
    }
   ],
   "source": [
    "# your code here\n",
    "mean_100 = sum(proportions_at_n_flips_100) / len(proportions_at_n_flips_100)\n",
    "mean_1000 = sum(proportions_at_n_flips_1000) / len(proportions_at_n_flips_1000)\n",
    "\n",
    "print(mean_100)\n",
    "print(mean_1000)"
   ]
  },
  {
   "cell_type": "code",
   "execution_count": 88,
   "metadata": {},
   "outputs": [
    {
     "name": "stdout",
     "output_type": "stream",
     "text": [
      "0.002812937500000001\n"
     ]
    }
   ],
   "source": [
    "diff = proportions_at_n_flips_100 - mean_100\n",
    "diff_sq = diff * diff\n",
    "var_100 = np.sum(diff_sq) / 200\n",
    "\n",
    "print(var_100)"
   ]
  },
  {
   "cell_type": "code",
   "execution_count": 89,
   "metadata": {},
   "outputs": [
    {
     "name": "stdout",
     "output_type": "stream",
     "text": [
      "0.00024093677500000034\n"
     ]
    }
   ],
   "source": [
    "diff = proportions_at_n_flips_1000 - mean_1000\n",
    "diff_sq = diff * diff\n",
    "var_1000 = np.sum(diff_sq) / 200\n",
    "\n",
    "print(var_1000)"
   ]
  },
  {
   "cell_type": "code",
   "execution_count": 90,
   "metadata": {},
   "outputs": [
    {
     "name": "stdout",
     "output_type": "stream",
     "text": [
      "0.002812937500000001\n",
      "0.0002409367750000003\n"
     ]
    }
   ],
   "source": [
    "print(np.var(proportions_at_n_flips_100))\n",
    "print(np.var(proportions_at_n_flips_1000))"
   ]
  },
  {
   "cell_type": "markdown",
   "metadata": {
    "colab_type": "text",
    "id": "bD54wYK5WhAn"
   },
   "source": [
    "**3.4**"
   ]
  },
  {
   "cell_type": "markdown",
   "metadata": {
    "colab_type": "text",
    "id": "qvBcwK_KWhAp"
   },
   "source": [
    "** Your choice and explanation here **\n",
    "\n",
    "\n"
   ]
  },
  {
   "cell_type": "markdown",
   "metadata": {
    "colab_type": "text",
    "id": "s_QVE9h-WhAp"
   },
   "source": [
    "**3.5**"
   ]
  },
  {
   "cell_type": "code",
   "execution_count": 156,
   "metadata": {
    "colab": {
     "autoexec": {
      "startup": false,
      "wait_interval": 0
     }
    },
    "colab_type": "code",
    "id": "bwuxdkIOWhAq"
   },
   "outputs": [
    {
     "data": {
      "image/png": "[encoded data removed]",
      "text/plain": [
       "<Figure size 432x288 with 1 Axes>"
      ]
     },
     "metadata": {
      "needs_background": "light"
     },
     "output_type": "display_data"
    }
   ],
   "source": [
    "x_axis = np.arange(0, 1, 0.001)\n",
    "gaussian = sp.stats.norm(mean_1000, np.sqrt(var_1000)).pdf(x_axis)\n",
    "\n",
    "# code for your plot here\n",
    "plt.hist(proportions_at_n_flips_1000, alpha=0.3, density=True, label='1000 flips')\n",
    "plt.plot(x_axis,gaussian)\n",
    "plt.title(\"Histogram of Samples at Different Numbers of Flips\")\n",
    "plt.xlabel(\"Proportions of Heads\")\n",
    "plt.legend(loc='upper right')\n",
    "plt.xlim(0.4, 0.6)\n",
    "plt.show()"
   ]
  },
  {
   "cell_type": "markdown",
   "metadata": {
    "colab_type": "text",
    "id": "NHetUbZgWhAy"
   },
   "source": [
    "## Working With Distributions in Numpy/Scipy\n",
    "\n",
    "Earlier in this problem set we've been introduced to the Bernoulli \"aka coin-flip\" distribution and worked with it indirectly by using np.random.choice to make a random selection between two elements 'H' and 'T'.  Let's see if we can create comparable results by taking advantage of the machinery for working with other probability distributions in python using numpy and scipy."
   ]
  },
  {
   "cell_type": "markdown",
   "metadata": {
    "colab_type": "text",
    "id": "2PxfpzuYWhAz"
   },
   "source": [
    "### Question 4: My Normal Binomial\n",
    "\n",
    "Let's use our coin-flipping machinery to do some experimentation with the binomial distribution.  The binomial distribution, often represented by  $k \\sim Binomial(n, p)$ is often discribed the number of successes in `n` Bernoulli trials with each trial having a probability of success `p`.  In other words,  if you flip a coin `n` times, and each coin-flip has a probability `p` of landing heads, then the number of heads you observe is a sample from a bernoulli distribution.\n",
    "\n",
    "**4.1**. Sample the binomial distribution with $p = 0.5$ using coin flips by writing a function `sample_binomial1` which takes in integer parameters `n` and `size`.  The output of `sample_binomial1` should be a list of length `size` observations with each observation being the outcome of flipping a coin `n` times and counting the number of heads.  By default `size` should be 1.  Your code should take advantage of the `throw_a_coin` function we defined above. \n",
    "\n",
    "**4.2**. Sample the binomial distribution directly using scipy.stats.binom.rvs by writing another function `sample_binomial2` that takes in integer parameters `n` and `size` as well as a float `p` parameter `p` where $p \\in [0 \\ldots 1]$.  The output of `sample_binomial2` should be a list of length `size` observations with each observation a sample of $Binomial(n, p)$ (taking advantage of scipy.stats.binom).  By default `size` should be 1 and `p` should be 0.5.\n",
    "\n",
    "**4.3**. Run sample_binomial1 with 25 and 200 as values of the `n` and `size` parameters respectively and store the result in `binomial_trials1`. Run sample_binomial2 with 25, 200 and 0.5 as values of the `n`, `size` and `p` parameters respectively and store the results in `binomial_trials2`.  Plot normed histograms of `binomial_trials1` and `binomial_trials2`.  On both histograms, overlay a plot of the pdf of $Binomial(n=25, p=0.5)$\n",
    "\n",
    "**4.4**. How do the plots in 4.3 compare?\n",
    "\n",
    "**4.5**. Find the mean and variance of `binomial_trials1`.  How do they compare to the mean and varaince of $Binomial(n=25, p=0.5)$"
   ]
  },
  {
   "cell_type": "markdown",
   "metadata": {
    "colab_type": "text",
    "id": "IxI1NjQdWhA0"
   },
   "source": [
    "#### Answers"
   ]
  },
  {
   "cell_type": "markdown",
   "metadata": {
    "colab_type": "text",
    "id": "4sbi3jdFWhA0"
   },
   "source": [
    "**4.1**"
   ]
  },
  {
   "cell_type": "code",
   "execution_count": 131,
   "metadata": {},
   "outputs": [],
   "source": [
    "# For reference\n",
    "def throw_a_coin(n_trials):\n",
    "    return np.random.choice(['H','T'], size=n_trials)"
   ]
  },
  {
   "cell_type": "code",
   "execution_count": 152,
   "metadata": {
    "colab": {
     "autoexec": {
      "startup": false,
      "wait_interval": 0
     }
    },
    "colab_type": "code",
    "id": "kwM0AW-GWhA1"
   },
   "outputs": [
    {
     "data": {
      "text/plain": [
       "[53, 48, 47, 46, 51, 48, 50, 61, 51, 50]"
      ]
     },
     "execution_count": 152,
     "metadata": {},
     "output_type": "execute_result"
    }
   ],
   "source": [
    "def sample_binomial1(n, size = 1):\n",
    "    p=0.5\n",
    "    outcomes = []\n",
    "    for i in range(size):\n",
    "        flips = throw_a_coin(n)\n",
    "        heads = np.sum(flips == 'H')\n",
    "        outcomes.append(heads)\n",
    "    return(outcomes)\n",
    "\n",
    "sample_binomial1(100,10)"
   ]
  },
  {
   "cell_type": "code",
   "execution_count": 141,
   "metadata": {},
   "outputs": [],
   "source": [
    "#np.random.binomial(100, 0.5)"
   ]
  },
  {
   "cell_type": "markdown",
   "metadata": {
    "colab_type": "text",
    "id": "lMAtEsbYWhA3"
   },
   "source": [
    "**4.2**"
   ]
  },
  {
   "cell_type": "code",
   "execution_count": 153,
   "metadata": {
    "colab": {
     "autoexec": {
      "startup": false,
      "wait_interval": 0
     }
    },
    "colab_type": "code",
    "id": "pQOWeCqXWhA5"
   },
   "outputs": [
    {
     "data": {
      "text/plain": [
       "[46, 50, 47, 57, 61, 57, 54, 58, 49, 48]"
      ]
     },
     "execution_count": 153,
     "metadata": {},
     "output_type": "execute_result"
    }
   ],
   "source": [
    "def sample_binomial2(n, size = 1, p=0.5):\n",
    "    outcomes = []\n",
    "    for i in range(size):\n",
    "        outcomes.append(sp.stats.binom.rvs(n,p))\n",
    "    return(outcomes)\n",
    "\n",
    "sample_binomial2(100,10)"
   ]
  },
  {
   "cell_type": "markdown",
   "metadata": {
    "colab_type": "text",
    "id": "NWlGhAY9WhA7"
   },
   "source": [
    "**4.3**"
   ]
  },
  {
   "cell_type": "code",
   "execution_count": 238,
   "metadata": {
    "colab": {
     "autoexec": {
      "startup": false,
      "wait_interval": 0
     }
    },
    "colab_type": "code",
    "id": "k8YMMTK3WhA7"
   },
   "outputs": [],
   "source": [
    "# your code here\n",
    "binomial_trials1 = sample_binomial1(25, 200)\n",
    "binomial_trials2 = sample_binomial2(25, 200, 0.5)"
   ]
  },
  {
   "cell_type": "code",
   "execution_count": 239,
   "metadata": {},
   "outputs": [],
   "source": [
    "x_axis1 = np.arange(0, 26, 1)\n",
    "binom = sp.stats.binom.pmf(x_axis1,25,0.5)"
   ]
  },
  {
   "cell_type": "code",
   "execution_count": 240,
   "metadata": {},
   "outputs": [
    {
     "data": {
      "image/png": "[encoded data removed]",
      "text/plain": [
       "<Figure size 432x288 with 1 Axes>"
      ]
     },
     "metadata": {
      "needs_background": "light"
     },
     "output_type": "display_data"
    }
   ],
   "source": [
    "plt.hist(binomial_trials1, density=True)\n",
    "plt.plot(x_axis1, binom)\n",
    "plt.title(\"Coin flip distribution, Number of successes in 25 trials\")\n",
    "plt.xlabel(\"Successes\")\n",
    "plt.show()"
   ]
  },
  {
   "cell_type": "code",
   "execution_count": 241,
   "metadata": {},
   "outputs": [
    {
     "data": {
      "image/png": "[encoded data removed]",
      "text/plain": [
       "<Figure size 432x288 with 1 Axes>"
      ]
     },
     "metadata": {
      "needs_background": "light"
     },
     "output_type": "display_data"
    }
   ],
   "source": [
    "plt.hist(binomial_trials2, density=True)\n",
    "plt.plot(x_axis1, binom)\n",
    "plt.title(\"Binomial distribution, Number of successes in 25 trials\")\n",
    "plt.xlabel(\"Successes\")\n",
    "plt.show()"
   ]
  },
  {
   "cell_type": "markdown",
   "metadata": {
    "colab_type": "text",
    "id": "fcfet9waWhA9"
   },
   "source": [
    "**4.4**"
   ]
  },
  {
   "cell_type": "markdown",
   "metadata": {
    "colab_type": "text",
    "id": "il5Ya6jWWhA-"
   },
   "source": [
    "The two plots are very similar although due to the low number of samples will have some variation\n",
    "\n",
    "\n"
   ]
  },
  {
   "cell_type": "markdown",
   "metadata": {
    "colab_type": "text",
    "id": "nPxUq3HwWhA_"
   },
   "source": [
    "**4.5**"
   ]
  },
  {
   "cell_type": "code",
   "execution_count": 237,
   "metadata": {
    "colab": {
     "autoexec": {
      "startup": false,
      "wait_interval": 0
     }
    },
    "colab_type": "code",
    "id": "u1ve7OHxWhBA"
   },
   "outputs": [
    {
     "name": "stdout",
     "output_type": "stream",
     "text": [
      "Mean of Random Trials: 12.50562 Mean of Binomial samples:  12.498175\n",
      "Variance of Random Trials: 6.2517984156 Variance of Binomial samples:  6.225686669375\n"
     ]
    }
   ],
   "source": [
    "print(\"Mean of Random Trials:\", np.mean(binomial_trials1), \"Mean of Binomial samples: \", np.mean(binomial_trials2))\n",
    "print(\"Variance of Random Trials:\", np.var(binomial_trials1), \"Variance of Binomial samples: \", np.var(binomial_trials2))"
   ]
  },
  {
   "cell_type": "markdown",
   "metadata": {
    "colab_type": "text",
    "id": "b9Yf06DqWhBE"
   },
   "source": [
    "The mean and variance of both approaches are very similar as expected. Both rely on taking a random sample of events with a p=0.5 of success and given enough trials would converge to the same values."
   ]
  },
  {
   "cell_type": "markdown",
   "metadata": {
    "colab_type": "text",
    "id": "Tr3YaDAVgZlF"
   },
   "source": [
    "# Sequences and Series\n",
    "\n",
    "Many mathematical and physical constants can be expressed as infinite sums, infinite products, and limits of recursion relationships.  In this problem, we will consider representations for two very famous numbers.\n",
    "\n",
    "## $\\pi$\n",
    "One way to represent $\\pi$ is with the infinite sum\n",
    "\\begin{align*}\n",
    "  \\frac{\\pi^{2}}{6} = \\sum_{n=0}^{\\infty}{\\frac{1}{n^{2}}}.\n",
    "\\end{align*}\n",
    "\n",
    "## $\\varphi$:  the golden ratio\n",
    "The golden ratio $\\varphi$ is the positive root of the quadratic equation $x^{2} - x - 1 = 0$.  It's exact value is $\\varphi = \\dfrac{1}{2}\\left(1 + \\sqrt{5}\\right) \\approx 1.608033\\ldots$.  Interestingly, it can also be expressed as the limit of the ratio of consecutive terms in the Fibonacci sequance.  The $n^{\\textrm{th}}$ term of the Fibonacci sequence is given by \n",
    "<br><br>\n",
    "\\begin{align*}\n",
    "  F_{n} = F_{n-1} + F_{n-2}, \\quad n > 2\n",
    "\\end{align*}\n",
    "<br>\n",
    "where $F_{1} = F_{2} = 1$ are seed values.  For examle, the ratio $F_{7} / F_{6} = 1.625$.\n",
    "\n",
    "\n",
    "In this problem, you will write a function to compute $\\pi$ and $\\varphi$ from the representations just described."
   ]
  },
  {
   "cell_type": "markdown",
   "metadata": {
    "colab_type": "text",
    "id": "FDz5BG87gk62"
   },
   "source": [
    "## Part 1\n",
    "Write a function called `numbers` that uses the infinite series representation to calculate $\\pi$ and the ratio of consecutive Fibonacci numbers to calculate $\\varphi$.\n",
    "\n",
    "### Requirements\n",
    "* The function should accept two arguments\n",
    "  - Argument 1:  A `string` indicating which number to calculate.  The string can be either \"pi\" or \"golden\".\n",
    "  - Argument 2:  An `integer` to specify how many terms to use in the approximation.  For example, if the integer is $10$ then the first $10$ terms of the sum for $\\pi$ will be used.\n",
    "* Depending on the arguments, the function will calculate either $\\pi$ or $\\varphi$.\n",
    "* If the user supplies an unrecognized argument, then the function should fail with an informative error message.  \n",
    "* The function should return a `float` which represents either $\\pi$ or $\\varphi$.\n",
    "\n",
    "### Hints\n",
    "* After $10$ terms you should find $\\pi \\approx 3.039507\\ldots$ and $\\varphi \\approx 1.617647\\ldots$."
   ]
  },
  {
   "cell_type": "markdown",
   "metadata": {
    "colab_type": "text",
    "id": "_QrJ1iGdgp4q"
   },
   "source": [
    "## Part 2\n",
    "Calculate $\\pi$ and $\\varphi$ using a variety of different terms in the expansion or recursion.\n",
    "\n",
    "### Requirements\n",
    "* Create a `python` `list` of integers.  Each integer represents the number of terms in the series representation or the recursion relation.\n",
    "* The list can be as big as you want, but should ascribe to the following:\n",
    "  - For the $\\pi$ expansion, you should use at least $15$ terms and go up to at least $500$.\n",
    "  - For the $\\varphi$ recursion, you should use the integers up to $10$.  If you go too high, you will get an overflow.\n",
    "* Iterate over the `list` and calculate $\\pi$ and $\\varphi$ at each item.\n",
    "* Store the results in a list."
   ]
  },
  {
   "cell_type": "markdown",
   "metadata": {
    "colab_type": "text",
    "id": "1YI4lELDgupH"
   },
   "source": [
    "## Part 3\n",
    "Plot the approximate values of $\\pi$ and $\\varphi$ as a function of the number of terms.\n",
    "\n",
    "### Requirements\n",
    "* Make two separate plots: one for $\\pi$ and one for $\\varphi$.\n",
    "* On each figure, plot the true value of $\\pi$ and $\\varphi$ as a horizontal line.\n",
    "\n",
    "### Hints\n",
    "* You may use `numpy` to get the true value.\n",
    "* Your figure might look something like this:\n",
    "![piandphi](piandphi.png)"
   ]
  }
 ],
 "metadata": {
  "accelerator": "GPU",
  "colab": {
   "collapsed_sections": [
    "mwKyvO1tWhAY",
    "IxI1NjQdWhA0"
   ],
   "default_view": {},
   "name": "IACS_HW0_2018.ipynb",
   "provenance": [],
   "version": "0.3.2",
   "views": {}
  },
  "kernelspec": {
   "display_name": "Python 3",
   "language": "python",
   "name": "python3"
  },
  "language_info": {
   "codemirror_mode": {
    "name": "ipython",
    "version": 3
   },
   "file_extension": ".py",
   "mimetype": "text/x-python",
   "name": "python",
   "nbconvert_exporter": "python",
   "pygments_lexer": "ipython3",
   "version": "3.7.3"
  }
 },
 "nbformat": 4,
 "nbformat_minor": 4
}
